{
 "cells": [
  {
   "cell_type": "code",
   "execution_count": 2,
   "metadata": {},
   "outputs": [],
   "source": [
    "# !pip install BeautifulSoup\n",
    "# !pip install lxml\n",
    "# !pip install requests"
   ]
  },
  {
   "cell_type": "code",
   "execution_count": 27,
   "metadata": {},
   "outputs": [
    {
     "name": "stdout",
     "output_type": "stream",
     "text": [
      "Name: Python for beginners\n",
      "Price: 20$\n",
      "Name: Python Web Development\n",
      "Price: 50$\n",
      "Name: Python Machine Learning\n",
      "Price: 100$\n"
     ]
    }
   ],
   "source": [
    "from bs4 import BeautifulSoup\n",
    "with open('home.html', 'r') as html_file:\n",
    "     content = html_file.read()\n",
    "     soup = BeautifulSoup(content, 'lxml')\n",
    "     course_cards = soup.find_all('div', class_='card')\n",
    "     for course in course_cards:\n",
    "          course_name = course.h5.text\n",
    "          course_prices = course.a.text.split()[-1]\n",
    "          print('Name:', course_name)\n",
    "          print('Price:', course_prices)\n",
    "    "
   ]
  },
  {
   "cell_type": "code",
   "execution_count": 30,
   "metadata": {},
   "outputs": [
    {
     "name": "stdout",
     "output_type": "stream",
     "text": [
      "Put some skill that you are not familiar with\n",
      "Filtering out oop\n",
      "File saved: 0\n",
      "File saved: 1\n",
      "File saved: 2\n",
      "File saved: 3\n",
      "File saved: 4\n",
      "File saved: 5\n",
      "File saved: 6\n",
      "File saved: 7\n",
      "File saved: 8\n",
      "File saved: 9\n",
      "File saved: 10\n",
      "File saved: 11\n",
      "File saved: 12\n",
      "File saved: 13\n",
      "File saved: 14\n",
      "File saved: 16\n",
      "File saved: 17\n",
      "File saved: 18\n",
      "File saved: 19\n",
      "File saved: 20\n",
      "File saved: 21\n",
      "File saved: 22\n",
      "File saved: 23\n",
      "File saved: 24\n",
      "Waiting 10 minutes...\n"
     ]
    }
   ],
   "source": [
    "import os\n",
    "from bs4 import BeautifulSoup\n",
    "import requests\n",
    "import time\n",
    "\n",
    "url = 'https://www.timesjobs.com/candidate/job-search.html?searchType=Home_Search&from=submit&asKey=OFF&txtKeywords=&cboPresFuncArea=35'\n",
    "\n",
    "def fetch_jobs():\n",
    "    try:\n",
    "        html_text = requests.get(url).text\n",
    "    except requests.exceptions.RequestException as e:\n",
    "        print(f\"Error fetching the webpage: {e}\")\n",
    "        return None\n",
    "    return BeautifulSoup(html_text, 'lxml')\n",
    "\n",
    "def find_jobs(unfamiliar_skill):\n",
    "    soup = fetch_jobs()\n",
    "    if not soup:\n",
    "        return\n",
    "\n",
    "    jobs = soup.find_all('li', class_='clearfix job-bx wht-shd-bx')\n",
    "    \n",
    "    if not os.path.exists('posts'):\n",
    "        os.makedirs('posts')\n",
    "\n",
    "    for index, job in enumerate(jobs):\n",
    "        published_date = job.find('span', class_='sim-posted').text.replace('\\n', '')\n",
    "\n",
    "        if 'today' in published_date or '1 day ago' in published_date:\n",
    "            company_name = job.find('h3', class_='joblist-comp-name').text.replace(' ', '').replace('\\n', '')\n",
    "\n",
    "            skills = job.find('span', class_='srp-skills').text.replace(' ', '').replace('\\n', '')\n",
    "\n",
    "            more_info = job.find(\"h2\").a['href']\n",
    "\n",
    "            if unfamiliar_skill not in skills:\n",
    "                with open(f'posts/{index}.txt', 'w') as f:\n",
    "                    f.write(f\"Company name: {company_name.strip()}\\n\")\n",
    "                    f.write(f\"Skills: {skills.strip()}\\n\")\n",
    "                    f.write(f\"Published Date: {published_date}\\n\")\n",
    "                    f.write(f\"More Info: {more_info}\\n\")\n",
    "                print(f'File saved: {index}')\n",
    "\n",
    "if __name__ == '__main__':\n",
    "    print(\"Put some skill that you are not familiar with\")\n",
    "    unfamiliar_skill = input(\">\")\n",
    "    print(f'Filtering out {unfamiliar_skill}')\n",
    "\n",
    "    while True:\n",
    "        find_jobs(unfamiliar_skill)\n",
    "        time_wait = 10\n",
    "        print(f'Waiting {time_wait} minutes...')\n",
    "        time.sleep(time_wait * 60)\n"
   ]
  },
  {
   "cell_type": "code",
   "execution_count": null,
   "metadata": {},
   "outputs": [],
   "source": []
  }
 ],
 "metadata": {
  "kernelspec": {
   "display_name": "base",
   "language": "python",
   "name": "python3"
  },
  "language_info": {
   "codemirror_mode": {
    "name": "ipython",
    "version": 3
   },
   "file_extension": ".py",
   "mimetype": "text/x-python",
   "name": "python",
   "nbconvert_exporter": "python",
   "pygments_lexer": "ipython3",
   "version": "3.11.7"
  }
 },
 "nbformat": 4,
 "nbformat_minor": 2
}
